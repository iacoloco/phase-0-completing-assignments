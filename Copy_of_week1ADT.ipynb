{
  "nbformat": 4,
  "nbformat_minor": 0,
  "metadata": {
    "colab": {
      "provenance": [],
      "authorship_tag": "ABX9TyOo7fPzH7QNzcTmhXTH5MJT",
      "include_colab_link": true
    },
    "kernelspec": {
      "name": "python3",
      "display_name": "Python 3"
    },
    "language_info": {
      "name": "python"
    }
  },
  "cells": [
    {
      "cell_type": "markdown",
      "metadata": {
        "id": "view-in-github",
        "colab_type": "text"
      },
      "source": [
        "<a href=\"https://colab.research.google.com/github/iacoloco/phase-0-completing-assignments/blob/master/Copy_of_week1ADT.ipynb\" target=\"_parent\"><img src=\"https://colab.research.google.com/assets/colab-badge.svg\" alt=\"Open In Colab\"/></a>"
      ]
    },
    {
      "cell_type": "code",
      "source": [
        "print(\"Welcome to Python code\")\n",
        "\n",
        "print (\" Write a program that prints the balance of an account\")\n",
        "\n",
        "interest_rate = 0.05\n",
        "i=0\n",
        "while i == 0:\n",
        "\n",
        "  print(\"How much would you like to add in your bank account?\")\n",
        "  initial_balance = float(input(\"Initial balance: \"))\n",
        "\n",
        "  total_firstY = initial_balance + initial_balance*interest_rate\n",
        "  print(\"Total First years= \" , total_firstY)\n",
        "\n",
        "  total_secondY = total_firstY + total_firstY*interest_rate\n",
        "  print(\"Total Second Year= \",total_secondY)\n",
        "\n",
        "  total_thirdY= (total_secondY + total_secondY*interest_rate)\n",
        "\n",
        "  print(\"Total Third year= \",total_thirdY)\n",
        "\n",
        "  print(\"Would you like to start from the beginning?\")\n",
        "  print(\"press 0 , or press any to exit\")\n",
        "\n",
        "  i= int(input(\"enter your option\"))\n",
        "\n",
        "print(\"bye bye\")\n",
        "\n",
        "\n"
      ],
      "metadata": {
        "colab": {
          "base_uri": "https://localhost:8080/"
        },
        "id": "IEpemVglP1dx",
        "outputId": "54570bc7-4d07-4451-94d3-5ba18c966dc7"
      },
      "execution_count": 1,
      "outputs": [
        {
          "output_type": "stream",
          "name": "stdout",
          "text": [
            "Welcome to Python code\n",
            " Write a program that prints the balance of an account\n",
            "How much would you like to add in your bank account?\n",
            "Initial balance: 1000\n",
            "Total First years=  1050.0\n",
            "Total Second Year=  1102.5\n",
            "Total Third year=  1157.625\n",
            "Would you like to start from the beginning?\n",
            "press 0 , or press any to exit\n",
            "enter your option0\n",
            "How much would you like to add in your bank account?\n",
            "Initial balance: 4\n",
            "Total First years=  4.2\n",
            "Total Second Year=  4.41\n",
            "Total Third year=  4.6305000000000005\n",
            "Would you like to start from the beginning?\n",
            "press 0 , or press any to exit\n",
            "enter your option7\n",
            "bye bye\n"
          ]
        }
      ]
    },
    {
      "cell_type": "markdown",
      "source": [
        "Concastenation is done using a , after the string type comma and then variable name"
      ],
      "metadata": {
        "id": "OSy1i85TWoUG"
      }
    }
  ]
}